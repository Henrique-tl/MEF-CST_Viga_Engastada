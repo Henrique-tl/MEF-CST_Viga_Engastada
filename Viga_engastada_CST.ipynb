{
 "cells": [
  {
   "cell_type": "markdown",
   "metadata": {},
   "source": [
    "Autor : Henrique Torres de Lima <br>\n",
    "Ano : 2019"
   ]
  },
  {
   "cell_type": "markdown",
   "metadata": {},
   "source": [
    "### Importando as bibliotecas utilizadas."
   ]
  },
  {
   "cell_type": "code",
   "execution_count": 139,
   "metadata": {},
   "outputs": [],
   "source": [
    "import numpy as np\n",
    "import math \n",
    "from matplotlib import pyplot as plt"
   ]
  },
  {
   "cell_type": "markdown",
   "metadata": {},
   "source": [
    "### O corpo a ser estudado é uma viga com uma extremidade engastada. \n",
    "### Descrição da viga:"
   ]
  },
  {
   "cell_type": "code",
   "execution_count": 140,
   "metadata": {},
   "outputs": [],
   "source": [
    "P = -5 # Força, em KN, na extremidade direita da viga.\n",
    "L = 200 # Largura da viga em cm.\n",
    "h0 = 10 # Altura da viga em cm.\n",
    "M = int(L/h0) # Relação largura por altura.\n",
    "E = 2.07*10**4 # Modulo de elasticidade da viga em KN/cm^2\n",
    "v = 0.3 # Coeficiente de Poisson\n",
    "t = 2 # Espessura da viga em cm.\n",
    "I = t*h0**3/12 # Inercia em cm^4."
   ]
  },
  {
   "cell_type": "markdown",
   "metadata": {},
   "source": [
    "### Elementos:"
   ]
  },
  {
   "cell_type": "markdown",
   "metadata": {},
   "source": [
    "Um bloco de elemento definido como dois elementos triangulares retângulos isósceles, sendo seus catetos de dimensão h.\n",
    "Seu esboço pode ser visto a seguir."
   ]
  },
  {
   "attachments": {
    "Elementos.png": {
     "image/png": "[encoded data removed]"
    }
   },
   "cell_type": "markdown",
   "metadata": {},
   "source": [
    "![Elementos.png](attachment:Elementos.png)"
   ]
  },
  {
   "cell_type": "markdown",
   "metadata": {},
   "source": [
    "Note que, apesar de semelhantes, (1) e (2) são elementos distintos e devem ter características como sua matriz de rigidez([k]), matriz de\n",
    "transformação ([Lmd]) e sua matriz [B] diferentes. Os vértices de cada elemento são rotulados por 'i','j','k'.\n"
   ]
  },
  {
   "cell_type": "code",
   "execution_count": 141,
   "metadata": {},
   "outputs": [],
   "source": [
    "n = 5"
   ]
  },
  {
   "cell_type": "markdown",
   "metadata": {},
   "source": [
    " Relevante para a geração da malha, \"n\" é o número de subdivisões da altura do elemento,\n",
    "      mais especificamente, \"n\" define a altura do elemento e impacta na quantidade de elementos.\n",
    "       Quanto maior o \"n\" maior a precisão, porem, maior o tempo computacional."
   ]
  },
  {
   "cell_type": "markdown",
   "metadata": {},
   "source": [
    "### Exemplo:\n",
    "\n",
    "Se n = 2 e h0 = 10cm (Altura da viga) então temos que um elemento da malha vai ter altura:\n",
    "h = h0/n = 10/2 = 5 cm\n",
    "Se a viga tem L = 100cm (Largura da viga) então será necessário que a malha tenha:\n",
    "L/h = 100/5 = 20 blocos de elementos na horizontal. Como n = 2, então temos que a quantidade de elementos que compõe a malha é descrita por:\n",
    "(L/h)*2*n = 20*(número de blocos)*2(elementos em cada bloco)*2(divisões da viga) = 80 elementos.\n",
    "Vale notar que, em geral, o número de elementos de uma dada malha pode ser calculada como:\n",
    "(L/h)*2*n = [L/(h0/n)]*2*n = 2*(L/h0)*n^2 = 2*M*n^2."
   ]
  },
  {
   "cell_type": "code",
   "execution_count": 142,
   "metadata": {},
   "outputs": [],
   "source": [
    "if 2*M*n**2 > 12000: #Avaliação do número de elementos.\n",
    "    print(\"Atenção, o número de elementos na malha é muito grande. Podendo causar problemas de desempenho no computador.\")\n",
    "    print(\"Numero de elementos: \",2*M*n**2)\n",
    "    Certeza = input(\"Insira 's' para continuar qualquer outra coisa para cancelar.\")\n",
    "    if Certeza == \"s\" or Certeza == \"S\":\n",
    "        print(\"Prosseguindo.\")\n",
    "    else:\n",
    "        exit()"
   ]
  },
  {
   "cell_type": "markdown",
   "metadata": {},
   "source": [
    "'M' tem que ser um número inteiro para o programa funcionar, portanto, se M =! L/h0 então não é possível realizar uma malha corretamente."
   ]
  },
  {
   "cell_type": "code",
   "execution_count": 143,
   "metadata": {},
   "outputs": [
    {
     "name": "stdout",
     "output_type": "stream",
     "text": [
      "Ok\n",
      "Relação L/h0 =  20\n",
      "Numero de elementos da malha: 1000\n"
     ]
    }
   ],
   "source": [
    "if M/(L/h0) == 1: \n",
    "    print(\"Ok\")\n",
    "    print(\"Relação L/h0 = \", M)\n",
    "    if M< 5 :\n",
    "        print(\"A relação L/h0 escolhida esta baixa.\")\n",
    "else:\n",
    "    '''\n",
    "    Se a relação não der um número inteiro os elementos não englobam todo o corpo.\n",
    "    '''\n",
    "    print(\"Cuidado, a relação L/h0 não é um número inteiro e, consequentemente, não apresenta resultados confiáveis.\") \n",
    "                                                                                                                        \n",
    "print(\"Numero de elementos da malha:\",2*M*n**2)"
   ]
  },
  {
   "cell_type": "markdown",
   "metadata": {},
   "source": [
    "## Descrição dos elementos:"
   ]
  },
  {
   "cell_type": "code",
   "execution_count": 144,
   "metadata": {},
   "outputs": [],
   "source": [
    "h = (h0/n) # Altura e largura de cada elemento.\n",
    "'''\n",
    "Dimensões dos dois elementos em um bloco qualquer. Note que as variáveis a \n",
    "baixo são tupler onde sua primeira posição pertence ao elemento tipo (1) \n",
    "e a segunda posição ao elemento tipo (2).\n",
    "'''\n",
    "Xi = (0,h) #posição no eixo X no vértice i do elemento.\n",
    "Yi = (0,h) #posição no eixo Y no vértice i do elemento.\n",
    "Xj = (h,0) #posição no eixo X no vértice j do elemento.\n",
    "Yj = (h,0) #posição no eixo Y no vértice j do elemento.\n",
    "Xk = (h,0) #posição no eixo X no vértice k do elemento.\n",
    "Yk = (0,h) #posição no eixo Y no vértice k do elemento.\n",
    "A = h**2/2 # Área do elemento\n"
   ]
  },
  {
   "cell_type": "markdown",
   "metadata": {},
   "source": [
    "### Matriz deslocamento-deformação [B]. Capitulo 10.2, pág. 381 do livro (Rao,2018); Capitulo 5.3.3,pág. 143 (Alves,2014)."
   ]
  },
  {
   "cell_type": "code",
   "execution_count": 145,
   "metadata": {},
   "outputs": [],
   "source": [
    "B = []\n",
    "for e in range(2):\n",
    "    #Matriz [B] no elemento 'e'.\n",
    "    Bs = (1/(A*2))*np.array([[Yk[e]-Yj[e],0,-(Yk[e]-Yi[e]),0,Yj[e]-Yi[e],0],\n",
    "                    [0,-(Xk[e]-Xj[e]),0,Xk[e]-Xi[e],0,-(Xj[e]-Xi[e])],\n",
    "                    [-(Xk[e]-Xj[e]),Yk[e]-Yj[e],Xk[e]-Xi[e],-(Yk[e]-Yi[e]),-(Xj[e]-Xi[e]),Yj[e]-Yi[e]]])\n",
    "    B.append(Bs) #Lista contendo as duas matrizes [B]"
   ]
  },
  {
   "cell_type": "markdown",
   "metadata": {},
   "source": [
    "### Inversa da matriz de coeficientes elástico, matriz [D]. Capitulo 10.2, pág. 381 do livro (Rao,2018).\n"
   ]
  },
  {
   "cell_type": "code",
   "execution_count": 146,
   "metadata": {},
   "outputs": [],
   "source": [
    "D = E/(1-v**2)*np.array([[1,v,0],\n",
    "                          [v,1,0],\n",
    "                    [0,0,(1-v)/2]])"
   ]
  },
  {
   "cell_type": "markdown",
   "metadata": {},
   "source": [
    "### Matriz de rigidez local [k]. Capitulo 10.2, pág. 381 do livro (Rao,2018)."
   ]
  },
  {
   "cell_type": "markdown",
   "metadata": {},
   "source": [
    "[k] = integral([B].T * [D] * [B])Dv = t*A*([B].T * [D] * [B])\n"
   ]
  },
  {
   "cell_type": "markdown",
   "metadata": {},
   "source": [
    "k = []\n",
    "for e in range(2):\n",
    "    k.append(t*A*np.dot(np.dot(B[e].T,D),B[e]))\n"
   ]
  },
  {
   "cell_type": "code",
   "execution_count": 147,
   "metadata": {},
   "outputs": [],
   "source": [
    "k = []\n",
    "for e in range(2):\n",
    "    \n",
    "    k.append(t*A*np.dot(np.dot(B[e].T,D),B[e]))"
   ]
  },
  {
   "cell_type": "markdown",
   "metadata": {},
   "source": [
    "### Matriz de rigidez global."
   ]
  },
  {
   "cell_type": "markdown",
   "metadata": {},
   "source": [
    "Com a matriz global ainda é necessário fazer a ordenação dos \n",
    "nódulo para associa-los com cada [K]. Sendo que, a enumeração dos nódulo é feita da esquerda para direita, de baixo para cima.\n",
    "\n",
    "Exemplo: Se n = 1 e M = 1, para o elemento 1: <br>\n",
    "pontas $\\;\\;$ i$\\;$  j$\\;$  k $\\;$     <br>\n",
    "nó$\\;\\;\\;\\;\\;\\;\\;\\;$1 4 3"
   ]
  },
  {
   "cell_type": "code",
   "execution_count": 148,
   "metadata": {},
   "outputs": [],
   "source": [
    "Ordem = []\n",
    "Ordem_K = []\n",
    "elem = 0\n",
    "for J in range(M*n):\n",
    "    a = 0\n",
    "    b = 0\n",
    "    for Col in range(1,2*n+1):\n",
    "        elem += 1\n",
    "        if elem % 2 != 0: # Os elementos impares são diferentes dos pares.\n",
    "            a += 1\n",
    "            Ordem.append([J*n+J+a,(J+1)*n+J+2+a,(J+1)*n+J+1+a]) #Criando lista que orienta a posição de cada nódulo em cada elemento ímpar.\n",
    "            Ordem_K.append([2*Ordem[elem-1][0]-1,2*Ordem[elem-1][0],2*Ordem[elem-1][1]-1,2*Ordem[elem-1][1],2*Ordem[elem-1][2]-1,2*Ordem[elem-1][2]]) #Usando lista acima para orientar as matrizes [K] impar. \n",
    "        else:\n",
    "            b += 1\n",
    "            Ordem.append([(J+1)*n+J+2+b,J*n+J+b,J*n+J+1+b])#Criando lista que orienta a posição de cada nódulo em cada elemento par.\n",
    "            Ordem_K.append([2*Ordem[elem-1][0]-1,2*Ordem[elem-1][0],2*Ordem[elem-1][1]-1,2*Ordem[elem-1][1],2*Ordem[elem-1][2]-1,2*Ordem[elem-1][2]]) #Usando lista acima para orientar as matrizes [K] par.\n"
   ]
  },
  {
   "cell_type": "markdown",
   "metadata": {},
   "source": [
    "(M*n*(n+1)+n+1) é o número de nódulos. Como cada nódulo tem uma deformação na direção x e em y, [_K_] tem de ser de dimensão ((M*n*(n+1)+n+1)*2,(n*M*(n+1)+n+1)*2)).\n"
   ]
  },
  {
   "cell_type": "code",
   "execution_count": 149,
   "metadata": {},
   "outputs": [],
   "source": [
    "_K_ = np.zeros(((M*n*(n+1)+n+1)*2,(n*M*(n+1)+n+1)*2))\n",
    "for e in range(1,2*M*n**2+1):\n",
    "#Usando lista Criada 'Ordem_K' para garantir que cada vértice e coluna de _K_ dos elementos impares esteja no local certo.\n",
    "    if e % 2 !=0:\n",
    "        for i in range(6):\n",
    "            for j in range(6):\n",
    "                _K_[Ordem_K[e-1][i]-1][Ordem_K[e-1][j]-1] += k[0][i][j] \n",
    "#Usando lista Criada 'Ordem_K' para garantir que cada vertice e coluna de _K_ dos elementos pares esteja no local certo.\n",
    "    else:\n",
    "        for i in range(6):\n",
    "            for j in range(6):\n",
    "                _K_[Ordem_K[e-1][i]-1][Ordem_K[e-1][j]-1] += k[1][i][j]    \n"
   ]
  },
  {
   "cell_type": "markdown",
   "metadata": {},
   "source": [
    "### Vetor de forças e implementação das condições de contorno.\n",
    "\n",
    "Note que a formula que descreve o número de nódulo da malha é dada por:\n",
    "Num_No = M*n*(n+1)+n+1\n",
    "Como a cada nódulo se acrescenta 2 graus de liberdade, temos o vetor de forças tem 2*(M*n*(n+1)+n+1) termos.\n"
   ]
  },
  {
   "cell_type": "code",
   "execution_count": 150,
   "metadata": {},
   "outputs": [],
   "source": [
    "F = np.zeros(((M*n*(n+1)+n+1)*2,1)) #Criando vetor força com o número certo de termos.\n",
    "F[-1][0] += P #Aplicando carga pontual em sua extremidade.\n"
   ]
  },
  {
   "cell_type": "markdown",
   "metadata": {},
   "source": [
    "Definindo os deslocamentos na extremidade esquerda como zero.\n"
   ]
  },
  {
   "cell_type": "code",
   "execution_count": 151,
   "metadata": {},
   "outputs": [],
   "source": [
    "for num in range(2*(n+1)):\n",
    "    F = np.delete(F,1,0) #Retirando os termos irrelevantes para o cálculo.\n"
   ]
  },
  {
   "cell_type": "markdown",
   "metadata": {},
   "source": [
    "Excluir condicoes de contorno do problema."
   ]
  },
  {
   "cell_type": "code",
   "execution_count": 152,
   "metadata": {},
   "outputs": [],
   "source": [
    "for i in range(2*(n+1)):\n",
    "    _K_ = np.delete(_K_,0,0) # Excluindo as linhas com deslocamento nulo de _K_\n",
    "    _K_ = np.delete(_K_,0,1) # Excluindo as colunas com deslocamento nulo de _K_\n"
   ]
  },
  {
   "cell_type": "markdown",
   "metadata": {},
   "source": [
    "Calculo do deslocamento global [_K_] * W = F."
   ]
  },
  {
   "cell_type": "code",
   "execution_count": 153,
   "metadata": {},
   "outputs": [],
   "source": [
    "Q_desordenado = np.linalg.solve(_K_,F) #Resolvendo a equação linear, descobrindo os deslocamento dos elementos em coordenadas globais, [Q]."
   ]
  },
  {
   "cell_type": "markdown",
   "metadata": {},
   "source": [
    "Vale notar que Q_desordenado não apresenta os zeros da condição de contorno, e esta ordenado na mesma sequência que os nódulos. \n"
   ]
  },
  {
   "cell_type": "code",
   "execution_count": 154,
   "metadata": {},
   "outputs": [],
   "source": [
    "O = np.zeros((2*(n+1),1)) # Matriz com zeros para acrescentar de volta os deslocamentos zero do engaste.\n",
    "Q_desordenado = np.append(O,Q_desordenado,0) # Acréscimo dos zeros no deslocamento.\n"
   ]
  },
  {
   "cell_type": "markdown",
   "metadata": {},
   "source": [
    "### Organizar o deslocamento por elemento.\n"
   ]
  },
  {
   "cell_type": "markdown",
   "metadata": {},
   "source": [
    "Para melhor explicar Q_desordenado e Q, segue o exemplo com n = 1 e M = 1:"
   ]
  },
  {
   "cell_type": "markdown",
   "metadata": {},
   "source": [
    "Q_desordenado = {deslocamento no nódulo 1 em x}                  Q = {deslocamento no nódulo 1 em x}  \n",
    "                {deslocamento no nódulo 1 em y}                      {deslocamento no nódulo 1 em y}  \n",
    "                {deslocamento no nódulo 2 em x}                      {deslocamento no nódulo 4 em x}  \n",
    "                          .                                                        .\n",
    "                          .                                                        .\n",
    "                          .                                                        .\n"
   ]
  },
  {
   "cell_type": "code",
   "execution_count": 155,
   "metadata": {},
   "outputs": [],
   "source": [
    "Q = []\n",
    "Q_1 = []\n",
    "\n",
    "for e in range(1,2*M*n**2+1):\n",
    "    for i in range(6):\n",
    "        Q_1.append(Q_desordenado[Ordem_K[e-1][i]-1][0]) #Organizando [Q] na ordem dos elementos.\n",
    "    Q.append([Q_1])\n",
    "    Q_1 = []\n",
    "Q = np.asarray(Q, dtype=np.float32) #Transformando [Q] de List para um numpy array."
   ]
  },
  {
   "cell_type": "code",
   "execution_count": 156,
   "metadata": {},
   "outputs": [
    {
     "name": "stdout",
     "output_type": "stream",
     "text": [
      "O deslocamento em y no último elemento é: \n",
      "[-3.3979669]\n",
      "Deslocamento(Obtido/Real)%:  [87.92239]\n",
      "A média das tensões no último elemento: \n",
      "[[-0.04017529]\n",
      " [-1.03241854]\n",
      " [-0.39379793]]\n",
      "-------------\n",
      "O deslocamento em y no primeiro elemento é: \n",
      "[0.]\n",
      "A média das tensões no primeiro elemento: \n",
      "[[-21.50853659]\n",
      " [ -3.61591223]\n",
      " [ -0.87557338]]\n",
      "Tensão(Obtido/Real)%:  [71.69512197]\n"
     ]
    }
   ],
   "source": [
    "print(\"O deslocamento em y no último elemento é: \")\n",
    "print(Q[-1].T[1])\n",
    "print(\"Deslocamento(Obtido/Real)%: \",100*Q[-1].T[1]/((-P/6*L**3+P/2*L**3)/(E*I)))\n",
    "D_B = np.dot(D,B[1])\n",
    "T1 = np.dot(D_B,Q[-1].T) # Calculo da Tensão no último elemento. Capítulo 10.3, pág. 392 do livro (Rao, 2018). \n",
    "D_B = np.dot(D,B[0])\n",
    "T2 = np.dot(D_B,Q[-2].T) # Calculo da Tensão no penúltimo elemento\n",
    "print(\"A média das tensões no último elemento: \")\n",
    "print((T1+T2)/2)  #As tensões medias são, respectivamente Txx, Tyy e Txy.\n",
    "print(\"-------------\")\n",
    "print(\"O deslocamento em y no primeiro elemento é: \")\n",
    "print(Q[0].T[1])\n",
    "D_B = np.dot(D,B[0])\n",
    "T1 = (np.dot(D_B,Q[0].T)) #Tensão no primeiro elemento.\n",
    "D_B = np.dot(D,B[1])\n",
    "T2 = (np.dot(D_B,Q[1].T)) #Tensão no segundo elemento.\n",
    "print(\"A média das tensões no primeiro elemento: \")\n",
    "print((T1+T2)/2) #Media das tensões\n",
    "T = (T1+T2)/2\n",
    "print(\"Tensão(Obtido/Real)%: \", T[0]/(h0/2*L*P/I)*100)"
   ]
  },
  {
   "cell_type": "markdown",
   "metadata": {},
   "source": [
    "Vamos também apresentar os gráficos de Tensão no começo, meio(aproximado) e fim da viga, primeiro analiticamente e em seguida\n",
    "o seu resultado obtido pelo método dos elementos finitos. Aqui é utilizado a biblioteca do matplotlib.\n"
   ]
  },
  {
   "cell_type": "code",
   "execution_count": 158,
   "metadata": {},
   "outputs": [
    {
     "name": "stdout",
     "output_type": "stream",
     "text": [
      "O gráfico da tensão real no engaste eh:\n"
     ]
    },
    {
     "data": {
      "image/png": "[encoded data removed]",
      "text/plain": [
       "<Figure size 432x288 with 1 Axes>"
      ]
     },
     "metadata": {
      "needs_background": "light"
     },
     "output_type": "display_data"
    }
   ],
   "source": [
    "print(\"O gráfico da tensão real no engaste eh:\")\n",
    "x_i = [h0/2*P*(L-0)/I,-h0/2*P*(L-0)/I]\n",
    "x_0 = [0,0]\n",
    "y_i = [-h0/2,h0/2]\n",
    "plt.xlabel('Tensão em KN/cm^2')\n",
    "plt.ylabel(\"Posição da viga em cm\")\n",
    "plt.plot(x_i,y_i)\n",
    "plt.plot(x_0,y_i)\n",
    "plt.title('Gráfico de tensão real no engaste:')\n",
    "plt.grid()\n",
    "plt.minorticks_on()\n",
    "plt.grid(b=True, which='minor', color='#999999', linestyle='-', alpha=0.2)\n",
    "plt.show()\n",
    "plt.close()"
   ]
  },
  {
   "cell_type": "code",
   "execution_count": 159,
   "metadata": {},
   "outputs": [
    {
     "name": "stdout",
     "output_type": "stream",
     "text": [
      "O gráfico da tensão estimada no engaste é:\n"
     ]
    },
    {
     "data": {
      "image/png": "[encoded data removed]",
      "text/plain": [
       "<Figure size 432x288 with 1 Axes>"
      ]
     },
     "metadata": {
      "needs_background": "light"
     },
     "output_type": "display_data"
    }
   ],
   "source": [
    "print(\"O gráfico da tensão estimada no engaste é:\")\n",
    "if n >1:\n",
    "    x_e = [float(np.dot(np.dot(D,B[x%2]),Q[x].T)[0]+np.dot(np.dot(D,B[(x+1)%2]),Q[x+1].T)[0])/2 for x in range(0,2*n,2) ]\n",
    "    y_e = [(x*h*(n)/(n-1)-h0/2) for x in range(n)]\n",
    "    x_e0 = [0 for x in range(n)]\n",
    "else:\n",
    "    x_e = [float(np.dot(np.dot(D,B[x%2]),Q[x].T)[0]) for x in range(2*n) ]\n",
    "    y_e = [(x*(h/2)*(2*n)/(2*n-1)-h0/2) for x in range(2*n)]\n",
    "    x_e0 = [0 for x in range(2*n)]\n",
    "plt.xlabel('Tensão em KN/cm^2')\n",
    "plt.ylabel(\"Posição da viga em cm\")\n",
    "plt.plot(x_e,y_e,marker = '.')\n",
    "plt.plot(x_e0,y_e)\n",
    "plt.title('Gráfico de tensão estimado no engaste:')\n",
    "plt.grid()\n",
    "plt.minorticks_on()\n",
    "plt.grid(b=True, which='minor', color='#999999', linestyle='-', alpha=0.2)\n",
    "plt.show()\n",
    "plt.close()"
   ]
  },
  {
   "cell_type": "code",
   "execution_count": 160,
   "metadata": {},
   "outputs": [
    {
     "name": "stdout",
     "output_type": "stream",
     "text": [
      "O gráfico de tensão real a  100.0 cm de distância do engaste:\n"
     ]
    },
    {
     "data": {
      "image/png": "[encoded data removed]",
      "text/plain": [
       "<Figure size 432x288 with 1 Axes>"
      ]
     },
     "metadata": {
      "needs_background": "light"
     },
     "output_type": "display_data"
    }
   ],
   "source": [
    "print(\"O gráfico de tensão real a \",math.ceil(L/h)/2*h,\"cm de distância do engaste:\")\n",
    "x_i = [h0/2*P*(L-math.ceil(L/h)/2*h)/I,-h0/2*P*(L-math.ceil(L/h)/2*h)/I]\n",
    "plt.xlabel('Tensão em KN/cm^2')\n",
    "plt.ylabel(\"Posição da viga em cm\")\n",
    "plt.plot(x_i,y_i)\n",
    "plt.plot(x_0,y_i)\n",
    "plt.title('Gráfico de tensão real no meio da viga:')\n",
    "plt.grid()\n",
    "plt.minorticks_on()\n",
    "plt.grid(b=True, which='minor', color='#999999', linestyle='-', alpha=0.2)\n",
    "plt.show()\n"
   ]
  },
  {
   "cell_type": "code",
   "execution_count": 161,
   "metadata": {},
   "outputs": [
    {
     "name": "stdout",
     "output_type": "stream",
     "text": [
      "O gráfico da tensão estimada no meio da viga é:\n"
     ]
    },
    {
     "data": {
      "image/png": "[encoded data removed]",
      "text/plain": [
       "<Figure size 432x288 with 1 Axes>"
      ]
     },
     "metadata": {
      "needs_background": "light"
     },
     "output_type": "display_data"
    }
   ],
   "source": [
    "print(\"O gráfico da tensão estimada no meio da viga é:\")\n",
    "k_m = int((math.ceil(L/h))/2-1)\n",
    "if n>1:\n",
    "    x_e = [float(np.dot(np.dot(D,B[x%2]),Q[2*k_m*n+x].T)[0]+np.dot(np.dot(D,B[(x+1)%2]),Q[2*k_m*n+x+1].T)[0])/2 for x in range(0,2*n,2) ]\n",
    "else:\n",
    "    x_e = [float(np.dot(np.dot(D,B[x%2]),Q[2*k_m*n+x].T)[0]) for x in range(2*n) ]\n",
    "plt.xlabel('Tensão em KN/cm^2')\n",
    "plt.ylabel(\"Posição da viga em cm\")\n",
    "plt.plot(x_e,y_e,marker = '.')\n",
    "plt.plot(x_e0,y_e)\n",
    "plt.title('Gráfico de tensão estimada no meio da viga:')\n",
    "plt.grid()\n",
    "plt.minorticks_on()\n",
    "plt.grid(b=True, which='minor', color='#999999', linestyle='-', alpha=0.2)\n",
    "plt.show()"
   ]
  },
  {
   "cell_type": "code",
   "execution_count": 162,
   "metadata": {},
   "outputs": [
    {
     "name": "stdout",
     "output_type": "stream",
     "text": [
      "O gráfico da tensão real no fim da viga eh:\n"
     ]
    },
    {
     "data": {
      "image/png": "[encoded data removed]",
      "text/plain": [
       "<Figure size 432x288 with 1 Axes>"
      ]
     },
     "metadata": {
      "needs_background": "light"
     },
     "output_type": "display_data"
    }
   ],
   "source": [
    "print(\"O gráfico da tensão real no fim da viga eh:\")\n",
    "x_i = [h0/2*P*(L-L)/I,-h0/2*P*(L-L)/I]\n",
    "y_i = [-h0/2,h0/2]\n",
    "plt.xlabel('Tensão em KN/cm^2')\n",
    "plt.ylabel(\"Posição da viga em cm\")\n",
    "plt.plot(x_i,y_i)\n",
    "plt.title('Gráfico de tensão real no fim da viga:')\n",
    "plt.grid()\n",
    "plt.minorticks_on()\n",
    "plt.grid(b=True, which='minor', color='#999999', linestyle='-', alpha=0.2)\n",
    "plt.show()"
   ]
  },
  {
   "cell_type": "code",
   "execution_count": 163,
   "metadata": {},
   "outputs": [
    {
     "name": "stdout",
     "output_type": "stream",
     "text": [
      "O gráfico da tensão estimada no fim da viga é:\n"
     ]
    },
    {
     "data": {
      "image/png": "[encoded data removed]",
      "text/plain": [
       "<Figure size 432x288 with 1 Axes>"
      ]
     },
     "metadata": {
      "needs_background": "light"
     },
     "output_type": "display_data"
    }
   ],
   "source": [
    "print(\"O gráfico da tensão estimada no fim da viga é:\")\n",
    "if n>1:\n",
    "    x_e = [float(np.dot(np.dot(D,B[x%2]),Q[2*(M*n-1)*n+x].T)[0]+np.dot(np.dot(D,B[(x+1)%2]),Q[2*(M*n-1)*n+x+1].T)[0])/2 for x in range(0,2*n,2) ]\n",
    "else:\n",
    "    x_e = [float(np.dot(np.dot(D,B[x%2]),Q[2*(M*n-1)*n+x].T)[0]) for x in range(2*n) ]\n",
    "plt.xlabel('Tensão em KN/cm^2')\n",
    "plt.ylabel(\"Posição da viga em cm\")\n",
    "plt.plot(x_e,y_e,marker = '.')\n",
    "plt.plot(x_e0,y_e)\n",
    "plt.title('Gráfico de tensão estimada no fim da viga:')\n",
    "plt.grid()\n",
    "plt.minorticks_on()\n",
    "plt.grid(b=True, which='minor', color='#999999', linestyle='-', alpha=0.2)\n",
    "plt.show()"
   ]
  },
  {
   "cell_type": "code",
   "execution_count": 164,
   "metadata": {},
   "outputs": [],
   "source": [
    "from graphics import *"
   ]
  },
  {
   "cell_type": "markdown",
   "metadata": {},
   "source": [
    "### Representação da malha.\n",
    "Rode a celula para gerar o gráfico."
   ]
  },
  {
   "cell_type": "code",
   "execution_count": 165,
   "metadata": {},
   "outputs": [],
   "source": [
    "L_max = 1700 #Comprimento, em pixels, da viga.\n",
    "h0_a = L_max/M #Altura da viga em pixels.\n",
    "h_a = h0_a/n #Altura do elemento em pixels.\n",
    "xw,yw = 1800,800 #Dimensões da janela gráfica. Diminua ou aumente de acordo com seu monitor.\n",
    "x00 = 20 #Inicio da viga na direção x.\n",
    "y00 = yw/2+h0_a/2 #Inicio da viga na direção y.\n",
    "win = GraphWin(\"Representação da malha\",xw,yw) #Criação da janela gráfica\n",
    "for y in range(n):\n",
    "    for x in range(M*n):\n",
    "        elem1 = Polygon(Point(x00+x*h_a,y00-y*h_a),Point(x00+h_a+x*h_a,y00-h_a-y*h_a),Point(x00+h_a+x*h_a,y00-y*h_a))\n",
    "        elem2 = Polygon(Point(x00+h_a+x*h_a,y00-h_a-y*h_a),Point(x00+x*h_a,y00-y*h_a),Point(x00+x*h_a,y00-h_a-y*h_a))\n",
    "        elem1.draw(win)\n",
    "        elem2.draw(win)\n",
    "win.getMouse() #Feche a janela clicando em algum lugar da tela, não em seu 'x'.\n",
    "win.close()"
   ]
  },
  {
   "cell_type": "markdown",
   "metadata": {},
   "source": [
    "### Deformação da malha e representação do gradiente de tensões\n",
    "Organização das tensões por cor:\n"
   ]
  },
  {
   "cell_type": "code",
   "execution_count": 166,
   "metadata": {},
   "outputs": [],
   "source": [
    "if n>1:\n",
    "    Total_T = [float(np.dot(np.dot(D,B[x%2]),Q[x].T)[0]+np.dot(np.dot(D,B[(x+1)%2]),Q[x+1].T)[0])/2 for x in range(0,2*M*n**2,2)] # Lista com todas as tensões.\n",
    "    a0= min(Total_T)#menor tensão\n",
    "    an= max(Total_T)#maior tensão\n",
    "else:\n",
    "    Total_T = [float(np.dot(np.dot(D,B[x%2]),Q[x].T)[0]) for x in range(2*M*n**2)]\n",
    "    a0= min(Total_T) #menor tensão\n",
    "    an= max(Total_T) #maior tensão\n",
    "def Cor(ak): #função que define a cor do elemento\n",
    "    global a0,an,Total_T\n",
    "    return math.floor(255*(Total_T[ak]-a0)/(an-a0)) \n"
   ]
  },
  {
   "cell_type": "markdown",
   "metadata": {},
   "source": [
    "Representação da malha sobre o efeito da força externa:"
   ]
  },
  {
   "cell_type": "code",
   "execution_count": 167,
   "metadata": {},
   "outputs": [],
   "source": [
    "e = 0\n",
    "Multiplicador_de_deformacao = 5.886\n",
    "Q_a = Q.copy()*L_max/L * Multiplicador_de_deformacao\n",
    "win = GraphWin(\"Deformacao da malha\",xw,yw)\n",
    "txt = Text(Point(150,20),(\"Multiplicador de deformacao = \"+str(Multiplicador_de_deformacao)))\n",
    "ex_ver = Circle(Point(45,50),13)\n",
    "ex_ver.setFill(color_rgb(255,0,0))\n",
    "txt_ver = Text(Point(150,50),'Tensoes mais elevadas')\n",
    "ex_azul = Circle(Point(45,80),13)\n",
    "ex_azul.setFill(color_rgb(0,0,255))\n",
    "txt_azul = Text(Point(155,80),'Tensoes menos elevadas')\n",
    "ex_azul.draw(win)\n",
    "ex_ver.draw(win)\n",
    "txt_ver.draw(win)\n",
    "txt_azul.draw(win)\n",
    "txt.draw(win)\n",
    "\n",
    "if n>1:\n",
    "    for x in range(M*n):\n",
    "        for y in range(n):\n",
    "            elem1 = Polygon(Point(x00+x*h_a+Q_a[e][0][0],y00-y*h_a-Q_a[e][0][1]),Point(x00+h_a+x*h_a+Q_a[e][0][2],y00-h_a-y*h_a-Q_a[e][0][3]),Point(x00+h_a+x*h_a+Q_a[e][0][4],y00-y*h_a-Q_a[e][0][5]))\n",
    "            e += 1\n",
    "            elem2 = Polygon(Point(x00+h_a+x*h_a+Q_a[e][0][0],y00-h_a-y*h_a-Q_a[e][0][1]),Point(x00+x*h_a+Q_a[e][0][2],y00-y*h_a-Q_a[e][0][3]),Point(x00+x*h_a+Q_a[e][0][4],y00-h_a-y*h_a-Q_a[e][0][5]))\n",
    "            e += 1\n",
    "            elem1.setFill(color_rgb(Cor(int(e/2)-1),0,255-Cor(int(e/2)-1)))\n",
    "            elem2.setFill(color_rgb(Cor(int(e/2)-1),0,255-Cor(int(e/2)-1)))\n",
    "            elem1.draw(win)\n",
    "            elem2.draw(win)\n",
    "    win.getMouse() #Feche a janela clicando em algum lugar da tela, não em seu 'x'.\n",
    "    win.close()\n",
    "else:\n",
    "    for x in range(M*n):\n",
    "        for y in range(n):\n",
    "            elem1 = Polygon(Point(x00+x*h_a+Q_a[e][0][0],y00-y*h_a-Q_a[e][0][1]),Point(x00+h_a+x*h_a+Q_a[e][0][2],y00-h_a-y*h_a-Q_a[e][0][3]),Point(x00+h_a+x*h_a+Q_a[e][0][4],y00-y*h_a-Q_a[e][0][5]))\n",
    "            e += 1\n",
    "            elem1.setFill(color_rgb(Cor(e-1),0,255-Cor(e-1)))\n",
    "            elem2 = Polygon(Point(x00+h_a+x*h_a+Q_a[e][0][0],y00-h_a-y*h_a-Q_a[e][0][1]),Point(x00+x*h_a+Q_a[e][0][2],y00-y*h_a-Q_a[e][0][3]),Point(x00+x*h_a+Q_a[e][0][4],y00-h_a-y*h_a-Q_a[e][0][5]))\n",
    "            e += 1\n",
    "            elem2.setFill(color_rgb(Cor(e-1),0,255-Cor(e-1)))\n",
    "            elem1.draw(win)\n",
    "            elem2.draw(win)\n",
    "    win.getMouse() #Feche a janela clicando em algum lugar da tela, não em seu 'x'.\n",
    "    win.close()"
   ]
  }
 ],
 "metadata": {
  "kernelspec": {
   "display_name": "Python 3",
   "language": "python",
   "name": "python3"
  },
  "language_info": {
   "codemirror_mode": {
    "name": "ipython",
    "version": 3
   },
   "file_extension": ".py",
   "mimetype": "text/x-python",
   "name": "python",
   "nbconvert_exporter": "python",
   "pygments_lexer": "ipython3",
   "version": "3.7.1"
  }
 },
 "nbformat": 4,
 "nbformat_minor": 2
}
